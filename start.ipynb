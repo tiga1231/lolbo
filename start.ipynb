{
 "cells": [
  {
   "cell_type": "code",
   "execution_count": null,
   "id": "2dce56d9-8577-4517-b0b1-d0b289feb68e",
   "metadata": {},
   "outputs": [],
   "source": [
    "import torch\n",
    "import selfies as sf\n",
    "from lolbo.utils.mol_utils.selfies_vae.model_positional_unbounded import SELFIESDataset, InfoTransformerVAE\n",
    "import numpy as np\n",
    "import random\n",
    "import matplotlib.pyplot as plt\n",
    "from inspect import getsource"
   ]
  },
  {
   "cell_type": "code",
   "execution_count": null,
   "id": "ad5c26a9-365b-42fb-987d-31bf4c79caae",
   "metadata": {},
   "outputs": [],
   "source": [
    "weights = torch.load('lolbo/utils/mol_utils/selfies_vae/state_dict/SELFIES-VAE-state-dict.pt')\n",
    "dataobj = SELFIESDataset()\n",
    "vae = InfoTransformerVAE(dataset=dataobj)\n",
    "vae.load_state_dict(weights)"
   ]
  },
  {
   "cell_type": "code",
   "execution_count": null,
   "id": "5f5f2b89-7510-4347-b287-067aba68aecb",
   "metadata": {},
   "outputs": [],
   "source": [
    "s = sf.encoder('C1CCCCC1')\n",
    "# s = sf.encoder('CN=C=O')\n",
    "# s = sf.encoder('OCCc1c(C)[n+](cs1)Cc2cnc(C)nc2N')\n",
    "print('selfie', s)\n",
    "tokenized_selfie = dataobj.tokenize_selfies([s])[0]\n",
    "print('tokenized_selfie', tokenized_selfie)\n",
    "encoded_selfie = dataobj.encode(tokenized_selfie).unsqueeze(0)\n",
    "print('encoded_selfie', encoded_selfie)"
   ]
  },
  {
   "cell_type": "code",
   "execution_count": null,
   "id": "5d31919d-2779-4d5b-8b15-a778abfd0d4f",
   "metadata": {},
   "outputs": [],
   "source": [
    "# tokens = torch.tensor([[dataobj.vocab2idx[s] for s in [*dataobj.vocab]]])"
   ]
  },
  {
   "cell_type": "code",
   "execution_count": null,
   "id": "8486ed97-d100-4669-899e-941674cdda1a",
   "metadata": {},
   "outputs": [],
   "source": [
    "mu, sigma = vae.encode(encoded_selfie)\n",
    "mu.shape"
   ]
  },
  {
   "cell_type": "code",
   "execution_count": null,
   "id": "c3e3e05a-994b-4fa9-8ab9-b0b636bd3d64",
   "metadata": {},
   "outputs": [],
   "source": []
  },
  {
   "cell_type": "code",
   "execution_count": null,
   "id": "2d62241b-5aae-4aa0-9be1-68b83cf3e380",
   "metadata": {},
   "outputs": [],
   "source": [
    "# logits = vae.decode(mu, encoded_selfie)\n",
    "print('input', s)\n",
    "print('----------------')\n",
    "\n",
    "\n",
    "seed = 42\n",
    "torch.manual_seed(seed)\n",
    "np.random.seed(seed)\n",
    "random.seed(seed)\n",
    "\n",
    "\n",
    "for _ in range(200):\n",
    "\n",
    "\n",
    "\n",
    "    logits = vae.decode(mu, torch.zeros_like(encoded_selfie))\n",
    "    \n",
    "\n",
    "    print(\n",
    "        dataobj.decode(logits.squeeze().argmax(dim=1).detach().cpu().numpy())\n",
    "    )"
   ]
  },
  {
   "cell_type": "code",
   "execution_count": null,
   "id": "ddf320b2-f197-4061-87e6-bd66b67d0068",
   "metadata": {},
   "outputs": [],
   "source": [
    "from torch import nn"
   ]
  },
  {
   "cell_type": "code",
   "execution_count": null,
   "id": "fa7ac15e-be99-491e-9cb7-af77e401655c",
   "metadata": {},
   "outputs": [],
   "source": [
    "plt.imshow(logits.squeeze().detach().cpu().numpy())"
   ]
  },
  {
   "cell_type": "code",
   "execution_count": null,
   "id": "c781fe11-73bb-4cd7-8408-62e524272ba7",
   "metadata": {},
   "outputs": [],
   "source": [
    "sample = vae.sample(z=z.reshape(-1, 2, 128))"
   ]
  },
  {
   "cell_type": "code",
   "execution_count": null,
   "id": "77568b25-aae5-4150-a480-cd512a95a702",
   "metadata": {},
   "outputs": [],
   "source": []
  },
  {
   "cell_type": "code",
   "execution_count": null,
   "id": "9a3159c7-2682-4c66-a431-e77127ad3b31",
   "metadata": {},
   "outputs": [],
   "source": []
  }
 ],
 "metadata": {
  "kernelspec": {
   "display_name": "Python 3 (ipykernel)",
   "language": "python",
   "name": "python3"
  },
  "language_info": {
   "codemirror_mode": {
    "name": "ipython",
    "version": 3
   },
   "file_extension": ".py",
   "mimetype": "text/x-python",
   "name": "python",
   "nbconvert_exporter": "python",
   "pygments_lexer": "ipython3",
   "version": "3.9.12"
  }
 },
 "nbformat": 4,
 "nbformat_minor": 5
}
